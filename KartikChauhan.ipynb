{
 "cells": [
  {
   "cell_type": "code",
   "execution_count": null,
   "metadata": {},
   "outputs": [],
   "source": [
    "import numpy as np\n",
    "import cv2\n",
    "import matplotlib.pyplot as plt"
   ]
  },
  {
   "cell_type": "code",
   "execution_count": null,
   "metadata": {},
   "outputs": [],
   "source": [
    "face_cascade = cv2.CascadeClassifier(\"facesXML/haarcascade_frontalface_alt2.xml\")"
   ]
  },
  {
   "cell_type": "markdown",
   "metadata": {},
   "source": [
    "# Real time face detection through Webcam"
   ]
  },
  {
   "cell_type": "code",
   "execution_count": null,
   "metadata": {},
   "outputs": [],
   "source": [
    "video = cv2.VideoCapture(0)\n",
    "while True:\n",
    "    _,frame = video.read()\n",
    "    gray = cv2.cvtColor(frame,cv2.COLOR_BGR2GRAY)\n",
    "    faces = face_cascade.detectMultiScale(gray,scaleFactor=1.2,minNeighbors=5)\n",
    "    for (x,y,w,h) in faces:\n",
    "        color = (255,0,0)\n",
    "        stroke = 2\n",
    "        rect_x = x + w\n",
    "        rect_y = y + h\n",
    "        cv2.rectangle(frame,(x,y),(rect_x,rect_y),color,stroke)  \n",
    "    \n",
    "    if cv2.waitKey(20) & 0xFF == ord('q'):  #press q to quit\n",
    "        break\n",
    "    cv2.imshow(\"Webcam Video\",frame)\n",
    "video.release()\n",
    "cv2.destroyAllWindows()"
   ]
  },
  {
   "cell_type": "markdown",
   "metadata": {},
   "source": [
    "# Face detection in image"
   ]
  },
  {
   "cell_type": "code",
   "execution_count": null,
   "metadata": {},
   "outputs": [],
   "source": [
    "img = cv2.imread(\"Data/img.jpg\")\n",
    "img = cv2.resize(img,(300,300))\n",
    "gray = cv2.cvtColor(img,cv2.COLOR_BGR2GRAY)\n",
    "faces = face_cascade.detectMultiScale(gray,scaleFactor=1.2,minNeighbors=5)\n",
    "for (x,y,w,h) in faces:       \n",
    "    color = (255,0,0)\n",
    "    stroke = 2\n",
    "    rect_x = x + w\n",
    "    rect_y = y + h\n",
    "    cv2.rectangle(img,(x,y),(rect_x,rect_y),color,stroke)  \n",
    "cv2.imshow(\"Pic\",img)\n",
    "cv2.waitKey(0) #Press 0 to quit"
   ]
  },
  {
   "cell_type": "code",
   "execution_count": null,
   "metadata": {},
   "outputs": [],
   "source": []
  }
 ],
 "metadata": {
  "kernelspec": {
   "display_name": "Python 3",
   "language": "python",
   "name": "python3"
  },
  "language_info": {
   "codemirror_mode": {
    "name": "ipython",
    "version": 3
   },
   "file_extension": ".py",
   "mimetype": "text/x-python",
   "name": "python",
   "nbconvert_exporter": "python",
   "pygments_lexer": "ipython3",
   "version": "3.7.1"
  }
 },
 "nbformat": 4,
 "nbformat_minor": 2
}
